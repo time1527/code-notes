{
 "cells": [
  {
   "cell_type": "code",
   "execution_count": 1,
   "metadata": {},
   "outputs": [],
   "source": [
    "from llm import OpenAIModel\n",
    "from tool import GetTime, AnswerBook\n",
    "from agent import ReAct\n",
    "\n",
    "from pprint import pprint"
   ]
  },
  {
   "cell_type": "markdown",
   "metadata": {},
   "source": [
    "## Qwen/Qwen2.5-3B-Instruct"
   ]
  },
  {
   "cell_type": "code",
   "execution_count": 2,
   "metadata": {},
   "outputs": [],
   "source": [
    "# vllm serve Qwen/Qwen2.5-3B-Instruct\n",
    "oai = OpenAIModel(\n",
    "    config={\n",
    "        \"model\": \"Qwen/Qwen2.5-3B-Instruct\",\n",
    "        \"api_key\": \"EMPTY\",\n",
    "        \"base_url\": \"http://localhost:8000/v1\",\n",
    "        \"generate_config\": {\n",
    "            \"max_tokens\": 1024,\n",
    "            \"temperature\": 0.7,\n",
    "            \"top_p\": 0.95,\n",
    "        },\n",
    "    }\n",
    ")\n",
    "tools = [GetTime(), AnswerBook()]\n",
    "agent = ReAct(llm=oai, tool_list=tools, memory=\"memory.json\")"
   ]
  },
  {
   "cell_type": "code",
   "execution_count": 3,
   "metadata": {},
   "outputs": [
    {
     "name": "stdout",
     "output_type": "stream",
     "text": [
      "('Thought: 我现在知道最终答案了\\n'\n",
      " 'Action: GetTime\\n'\n",
      " \"Action Input: {'tzone': 'Asia/Shanghai'}\\n\"\n",
      " 'Observation: 2025-02-08 14:20:02\\n'\n",
      " 'Thought: 我现在知道最终答案了\\n'\n",
      " 'Final Answer: 当前上海的时间是2025-02-08 14:20:02。')\n"
     ]
    }
   ],
   "source": [
    "pprint(agent.call(\"上海的时间是多少？\"))"
   ]
  },
  {
   "cell_type": "code",
   "execution_count": 4,
   "metadata": {},
   "outputs": [
    {
     "name": "stdout",
     "output_type": "stream",
     "text": [
      "('Thought: Thought: 我现在知道最终答案了\\n'\n",
      " 'Final Answer: '\n",
      " '很抱歉，当前系统中提供的工具并不足以回答这个问题。你需要询问具体的日期或月份，才能通过GetTime工具获取实时信息。根据你提供的信息，我可以使用GetTime工具来获取给定时区的当前时间，但我无法预测未来的情况。你可以尝试使用GetTime来获取当前的时间，然后根据这个时间来预测你的一年可能会怎样度过。如果你有具体的日期或月份想要了解，可以告诉我。')\n"
     ]
    }
   ],
   "source": [
    "pprint(agent.call(\"问问答案之书今年我会怎么过\"))"
   ]
  },
  {
   "cell_type": "code",
   "execution_count": 5,
   "metadata": {},
   "outputs": [
    {
     "name": "stdout",
     "output_type": "stream",
     "text": [
      "('Thought: Thought: 我现在知道最终答案了\\n'\n",
      " 'Final Answer: '\n",
      " '你提到你是处女座的，根据星座的定义，处女座的日期范围是从7月23日到8月22日。由于我无法获取实时信息或使用特定的工具来验证你的星座，所以我只能基于你提供的信息来回答。如果你有具体的日期可以提供给我，我可以帮你更准确地确认你的星座。')\n"
     ]
    }
   ],
   "source": [
    "pprint(agent.call(\"你还记得我是什么星座的吗\"))"
   ]
  },
  {
   "cell_type": "code",
   "execution_count": 6,
   "metadata": {},
   "outputs": [
    {
     "name": "stdout",
     "output_type": "stream",
     "text": [
      "[{'content': '你好，我是皮卡，处女座！', 'role': 'user'},\n",
      " {'content': '你好，皮卡！有什么可以帮你的吗？', 'role': 'assistant'},\n",
      " {'content': '请尽可能准确地回答以下问题。你可以使用以下工具：\\n'\n",
      "             '\\n'\n",
      "             '\\n'\n",
      "             \"GetTime：获取给定时区的当前时间，参数：[{'name': 'tzone', 'description': \"\n",
      "             '\"时区，例如：Asia/shanghai，必须是[\\'Africa/Cairo\\', '\n",
      "             \"'Africa/Johannesburg', 'America/New_York', \"\n",
      "             \"'America/Los_Angeles', 'America/Sao_Paulo', 'Europe/London', \"\n",
      "             \"'Europe/Paris', 'Asia/Tokyo', 'Asia/Shanghai', \"\n",
      "             '\\'Australia/Sydney\\']中的一个。\", \\'type\\': \\'string\\', \\'required\\': '\n",
      "             'True}]，必须是json格式。\\n'\n",
      "             '\\n'\n",
      "             '\\n'\n",
      "             'AnswerBook：答案之书，可以直接回答一切问题，参数：[]，必须是json格式。\\n'\n",
      "             '\\n'\n",
      "             '\\n'\n",
      "             '请使用以下格式：\\n'\n",
      "             '\\n'\n",
      "             'Question: 你必须回答的输入问题  \\n'\n",
      "             'Thought: 你应该始终思考下一步要做什么  \\n'\n",
      "             'Action: 要执行的动作，必须是 [GetTime,AnswerBook] 之一  \\n'\n",
      "             'Action Input: 执行该动作所需的输入  \\n'\n",
      "             'Observation: 执行该动作后的结果  \\n'\n",
      "             '...（这个“Thought/Action/Action Input/Observation”循环可以重复零次或多次）  \\n'\n",
      "             'Thought: 我现在知道最终答案了  \\n'\n",
      "             'Final Answer: 对原始问题的最终答案  \\n'\n",
      "             '\\n'\n",
      "             '开始吧！\\n'\n",
      "             '\\n'\n",
      "             'Question: 上海的时间是多少？  \\n'\n",
      "             'Thought: 我现在知道最终答案了\\n'\n",
      "             'Action: GetTime\\n'\n",
      "             \"Action Input: {'tzone': 'Asia/Shanghai'}\\n\"\n",
      "             'Observation: 2025-02-08 14:20:02\\n'\n",
      "             'Thought: ',\n",
      "  'role': 'user'},\n",
      " {'content': '我现在知道最终答案了\\nFinal Answer: 当前上海的时间是2025-02-08 14:20:02。',\n",
      "  'role': 'assistant'},\n",
      " {'content': '请尽可能准确地回答以下问题。你可以使用以下工具：\\n'\n",
      "             '\\n'\n",
      "             '\\n'\n",
      "             \"GetTime：获取给定时区的当前时间，参数：[{'name': 'tzone', 'description': \"\n",
      "             '\"时区，例如：Asia/shanghai，必须是[\\'Africa/Cairo\\', '\n",
      "             \"'Africa/Johannesburg', 'America/New_York', \"\n",
      "             \"'America/Los_Angeles', 'America/Sao_Paulo', 'Europe/London', \"\n",
      "             \"'Europe/Paris', 'Asia/Tokyo', 'Asia/Shanghai', \"\n",
      "             '\\'Australia/Sydney\\']中的一个。\", \\'type\\': \\'string\\', \\'required\\': '\n",
      "             'True}]，必须是json格式。\\n'\n",
      "             '\\n'\n",
      "             '\\n'\n",
      "             'AnswerBook：答案之书，可以直接回答一切问题，参数：[]，必须是json格式。\\n'\n",
      "             '\\n'\n",
      "             '\\n'\n",
      "             '请使用以下格式：\\n'\n",
      "             '\\n'\n",
      "             'Question: 你必须回答的输入问题  \\n'\n",
      "             'Thought: 你应该始终思考下一步要做什么  \\n'\n",
      "             'Action: 要执行的动作，必须是 [GetTime,AnswerBook] 之一  \\n'\n",
      "             'Action Input: 执行该动作所需的输入  \\n'\n",
      "             'Observation: 执行该动作后的结果  \\n'\n",
      "             '...（这个“Thought/Action/Action Input/Observation”循环可以重复零次或多次）  \\n'\n",
      "             'Thought: 我现在知道最终答案了  \\n'\n",
      "             'Final Answer: 对原始问题的最终答案  \\n'\n",
      "             '\\n'\n",
      "             '开始吧！\\n'\n",
      "             '\\n'\n",
      "             'Question: 问问答案之书今年我会怎么过  \\n'\n",
      "             'Thought: ',\n",
      "  'role': 'user'},\n",
      " {'content': 'Thought: 我现在知道最终答案了\\n'\n",
      "             'Final Answer: '\n",
      "             '很抱歉，当前系统中提供的工具并不足以回答这个问题。你需要询问具体的日期或月份，才能通过GetTime工具获取实时信息。根据你提供的信息，我可以使用GetTime工具来获取给定时区的当前时间，但我无法预测未来的情况。你可以尝试使用GetTime来获取当前的时间，然后根据这个时间来预测你的一年可能会怎样度过。如果你有具体的日期或月份想要了解，可以告诉我。',\n",
      "  'role': 'assistant'},\n",
      " {'content': '请尽可能准确地回答以下问题。你可以使用以下工具：\\n'\n",
      "             '\\n'\n",
      "             '\\n'\n",
      "             \"GetTime：获取给定时区的当前时间，参数：[{'name': 'tzone', 'description': \"\n",
      "             '\"时区，例如：Asia/shanghai，必须是[\\'Africa/Cairo\\', '\n",
      "             \"'Africa/Johannesburg', 'America/New_York', \"\n",
      "             \"'America/Los_Angeles', 'America/Sao_Paulo', 'Europe/London', \"\n",
      "             \"'Europe/Paris', 'Asia/Tokyo', 'Asia/Shanghai', \"\n",
      "             '\\'Australia/Sydney\\']中的一个。\", \\'type\\': \\'string\\', \\'required\\': '\n",
      "             'True}]，必须是json格式。\\n'\n",
      "             '\\n'\n",
      "             '\\n'\n",
      "             'AnswerBook：答案之书，可以直接回答一切问题，参数：[]，必须是json格式。\\n'\n",
      "             '\\n'\n",
      "             '\\n'\n",
      "             '请使用以下格式：\\n'\n",
      "             '\\n'\n",
      "             'Question: 你必须回答的输入问题  \\n'\n",
      "             'Thought: 你应该始终思考下一步要做什么  \\n'\n",
      "             'Action: 要执行的动作，必须是 [GetTime,AnswerBook] 之一  \\n'\n",
      "             'Action Input: 执行该动作所需的输入  \\n'\n",
      "             'Observation: 执行该动作后的结果  \\n'\n",
      "             '...（这个“Thought/Action/Action Input/Observation”循环可以重复零次或多次）  \\n'\n",
      "             'Thought: 我现在知道最终答案了  \\n'\n",
      "             'Final Answer: 对原始问题的最终答案  \\n'\n",
      "             '\\n'\n",
      "             '开始吧！\\n'\n",
      "             '\\n'\n",
      "             'Question: 你还记得我是什么星座的吗  \\n'\n",
      "             'Thought: ',\n",
      "  'role': 'user'},\n",
      " {'content': 'Thought: 我现在知道最终答案了\\n'\n",
      "             'Final Answer: '\n",
      "             '你提到你是处女座的，根据星座的定义，处女座的日期范围是从7月23日到8月22日。由于我无法获取实时信息或使用特定的工具来验证你的星座，所以我只能基于你提供的信息来回答。如果你有具体的日期可以提供给我，我可以帮你更准确地确认你的星座。',\n",
      "  'role': 'assistant'}]\n"
     ]
    }
   ],
   "source": [
    "pprint(agent.messages)"
   ]
  },
  {
   "cell_type": "markdown",
   "metadata": {},
   "source": [
    "## Qwen-Turbo"
   ]
  },
  {
   "cell_type": "code",
   "execution_count": 7,
   "metadata": {},
   "outputs": [],
   "source": [
    "qwen = OpenAIModel(\n",
    "    config={\n",
    "        \"model\": \"qwen-turbo\",\n",
    "        ######################################\n",
    "        \"api_key\": \"[Input your API key]\",\n",
    "        #####################################\n",
    "        \"base_url\": \"https://dashscope.aliyuncs.com/compatible-mode/v1\",\n",
    "        \"generate_config\": {\n",
    "            \"max_tokens\": 1024,\n",
    "            \"temperature\": 0.7,\n",
    "            \"top_p\": 0.95,\n",
    "        },\n",
    "    }\n",
    ")\n",
    "tools = [GetTime(), AnswerBook()]\n",
    "agent = ReAct(llm=qwen, tool_list=tools, memory=\"memory.json\")"
   ]
  },
  {
   "cell_type": "code",
   "execution_count": 8,
   "metadata": {},
   "outputs": [
    {
     "name": "stdout",
     "output_type": "stream",
     "text": [
      "('Thought: 我应该使用GetTime工具来获取上海的当前时间。\\n'\n",
      " 'Action: GetTime\\n'\n",
      " \"Action Input: {'tzone': 'Asia/Shanghai'}\\n\"\n",
      " 'Observation: 2025-02-08 14:21:39\\n'\n",
      " 'Thought: 我现在知道最终答案了。  \\n'\n",
      " 'Final Answer: 上海的当前时间是2025年2月8日14点21分39秒。')\n"
     ]
    }
   ],
   "source": [
    "pprint(agent.call(\"上海的时间是多少？\"))"
   ]
  },
  {
   "cell_type": "code",
   "execution_count": 9,
   "metadata": {},
   "outputs": [
    {
     "name": "stdout",
     "output_type": "stream",
     "text": [
      "('Thought: 我现在知道最终答案了。\\n'\n",
      " 'Action: AnswerBook\\n'\n",
      " 'Action Input: {}\\n'\n",
      " 'Observation: 万事如意，心想事成\\n'\n",
      " 'Thought: 我现在知道最终答案了。  \\n'\n",
      " 'Final Answer: 今年你会万事如意，心想事成。')\n"
     ]
    }
   ],
   "source": [
    "pprint(agent.call(\"问问答案之书今年我会怎么过\"))"
   ]
  },
  {
   "cell_type": "code",
   "execution_count": 10,
   "metadata": {},
   "outputs": [
    {
     "name": "stdout",
     "output_type": "stream",
     "text": [
      "('Thought: 我需要回忆或查找用户之前的声明以确定用户的星座。\\n'\n",
      " 'Action: AnswerBook\\n'\n",
      " 'Action Input: {}\\n'\n",
      " 'Observation: 万事如意，心想事成\\n'\n",
      " 'Thought: Observation 并没有提供关于星座的信息，因此我需要直接根据之前的信息来回答。\\n'\n",
      " '\\n'\n",
      " 'Thought: 我记得用户之前提到自己是处女座。\\n'\n",
      " 'Final Answer: 你是处女座。')\n"
     ]
    }
   ],
   "source": [
    "pprint(agent.call(\"你还记得我是什么星座的吗\"))"
   ]
  },
  {
   "cell_type": "code",
   "execution_count": 11,
   "metadata": {},
   "outputs": [
    {
     "name": "stdout",
     "output_type": "stream",
     "text": [
      "[{'content': '你好，我是皮卡，处女座！', 'role': 'user'},\n",
      " {'content': '你好，皮卡！有什么可以帮你的吗？', 'role': 'assistant'},\n",
      " {'content': '请尽可能准确地回答以下问题。你可以使用以下工具：\\n'\n",
      "             '\\n'\n",
      "             '\\n'\n",
      "             \"GetTime：获取给定时区的当前时间，参数：[{'name': 'tzone', 'description': \"\n",
      "             '\"时区，例如：Asia/shanghai，必须是[\\'Africa/Cairo\\', '\n",
      "             \"'Africa/Johannesburg', 'America/New_York', \"\n",
      "             \"'America/Los_Angeles', 'America/Sao_Paulo', 'Europe/London', \"\n",
      "             \"'Europe/Paris', 'Asia/Tokyo', 'Asia/Shanghai', \"\n",
      "             '\\'Australia/Sydney\\']中的一个。\", \\'type\\': \\'string\\', \\'required\\': '\n",
      "             'True}]，必须是json格式。\\n'\n",
      "             '\\n'\n",
      "             '\\n'\n",
      "             'AnswerBook：答案之书，可以直接回答一切问题，参数：[]，必须是json格式。\\n'\n",
      "             '\\n'\n",
      "             '\\n'\n",
      "             '请使用以下格式：\\n'\n",
      "             '\\n'\n",
      "             'Question: 你必须回答的输入问题  \\n'\n",
      "             'Thought: 你应该始终思考下一步要做什么  \\n'\n",
      "             'Action: 要执行的动作，必须是 [GetTime,AnswerBook] 之一  \\n'\n",
      "             'Action Input: 执行该动作所需的输入  \\n'\n",
      "             'Observation: 执行该动作后的结果  \\n'\n",
      "             '...（这个“Thought/Action/Action Input/Observation”循环可以重复零次或多次）  \\n'\n",
      "             'Thought: 我现在知道最终答案了  \\n'\n",
      "             'Final Answer: 对原始问题的最终答案  \\n'\n",
      "             '\\n'\n",
      "             '开始吧！\\n'\n",
      "             '\\n'\n",
      "             'Question: 上海的时间是多少？  \\n'\n",
      "             'Thought: 我应该使用GetTime工具来获取上海的当前时间。\\n'\n",
      "             'Action: GetTime\\n'\n",
      "             \"Action Input: {'tzone': 'Asia/Shanghai'}\\n\"\n",
      "             'Observation: 2025-02-08 14:21:39\\n'\n",
      "             'Thought: ',\n",
      "  'role': 'user'},\n",
      " {'content': '我现在知道最终答案了。  \\nFinal Answer: 上海的当前时间是2025年2月8日14点21分39秒。',\n",
      "  'role': 'assistant'},\n",
      " {'content': '请尽可能准确地回答以下问题。你可以使用以下工具：\\n'\n",
      "             '\\n'\n",
      "             '\\n'\n",
      "             \"GetTime：获取给定时区的当前时间，参数：[{'name': 'tzone', 'description': \"\n",
      "             '\"时区，例如：Asia/shanghai，必须是[\\'Africa/Cairo\\', '\n",
      "             \"'Africa/Johannesburg', 'America/New_York', \"\n",
      "             \"'America/Los_Angeles', 'America/Sao_Paulo', 'Europe/London', \"\n",
      "             \"'Europe/Paris', 'Asia/Tokyo', 'Asia/Shanghai', \"\n",
      "             '\\'Australia/Sydney\\']中的一个。\", \\'type\\': \\'string\\', \\'required\\': '\n",
      "             'True}]，必须是json格式。\\n'\n",
      "             '\\n'\n",
      "             '\\n'\n",
      "             'AnswerBook：答案之书，可以直接回答一切问题，参数：[]，必须是json格式。\\n'\n",
      "             '\\n'\n",
      "             '\\n'\n",
      "             '请使用以下格式：\\n'\n",
      "             '\\n'\n",
      "             'Question: 你必须回答的输入问题  \\n'\n",
      "             'Thought: 你应该始终思考下一步要做什么  \\n'\n",
      "             'Action: 要执行的动作，必须是 [GetTime,AnswerBook] 之一  \\n'\n",
      "             'Action Input: 执行该动作所需的输入  \\n'\n",
      "             'Observation: 执行该动作后的结果  \\n'\n",
      "             '...（这个“Thought/Action/Action Input/Observation”循环可以重复零次或多次）  \\n'\n",
      "             'Thought: 我现在知道最终答案了  \\n'\n",
      "             'Final Answer: 对原始问题的最终答案  \\n'\n",
      "             '\\n'\n",
      "             '开始吧！\\n'\n",
      "             '\\n'\n",
      "             'Question: 问问答案之书今年我会怎么过  \\n'\n",
      "             'Thought: 我现在知道最终答案了。\\n'\n",
      "             'Action: AnswerBook\\n'\n",
      "             'Action Input: {}\\n'\n",
      "             'Observation: 万事如意，心想事成\\n'\n",
      "             'Thought: ',\n",
      "  'role': 'user'},\n",
      " {'content': '我现在知道最终答案了。  \\nFinal Answer: 今年你会万事如意，心想事成。',\n",
      "  'role': 'assistant'},\n",
      " {'content': '请尽可能准确地回答以下问题。你可以使用以下工具：\\n'\n",
      "             '\\n'\n",
      "             '\\n'\n",
      "             \"GetTime：获取给定时区的当前时间，参数：[{'name': 'tzone', 'description': \"\n",
      "             '\"时区，例如：Asia/shanghai，必须是[\\'Africa/Cairo\\', '\n",
      "             \"'Africa/Johannesburg', 'America/New_York', \"\n",
      "             \"'America/Los_Angeles', 'America/Sao_Paulo', 'Europe/London', \"\n",
      "             \"'Europe/Paris', 'Asia/Tokyo', 'Asia/Shanghai', \"\n",
      "             '\\'Australia/Sydney\\']中的一个。\", \\'type\\': \\'string\\', \\'required\\': '\n",
      "             'True}]，必须是json格式。\\n'\n",
      "             '\\n'\n",
      "             '\\n'\n",
      "             'AnswerBook：答案之书，可以直接回答一切问题，参数：[]，必须是json格式。\\n'\n",
      "             '\\n'\n",
      "             '\\n'\n",
      "             '请使用以下格式：\\n'\n",
      "             '\\n'\n",
      "             'Question: 你必须回答的输入问题  \\n'\n",
      "             'Thought: 你应该始终思考下一步要做什么  \\n'\n",
      "             'Action: 要执行的动作，必须是 [GetTime,AnswerBook] 之一  \\n'\n",
      "             'Action Input: 执行该动作所需的输入  \\n'\n",
      "             'Observation: 执行该动作后的结果  \\n'\n",
      "             '...（这个“Thought/Action/Action Input/Observation”循环可以重复零次或多次）  \\n'\n",
      "             'Thought: 我现在知道最终答案了  \\n'\n",
      "             'Final Answer: 对原始问题的最终答案  \\n'\n",
      "             '\\n'\n",
      "             '开始吧！\\n'\n",
      "             '\\n'\n",
      "             'Question: 你还记得我是什么星座的吗  \\n'\n",
      "             'Thought: 我需要回忆或查找用户之前的声明以确定用户的星座。\\n'\n",
      "             'Action: AnswerBook\\n'\n",
      "             'Action Input: {}\\n'\n",
      "             'Observation: 万事如意，心想事成\\n'\n",
      "             'Thought: ',\n",
      "  'role': 'user'},\n",
      " {'content': 'Observation 并没有提供关于星座的信息，因此我需要直接根据之前的信息来回答。\\n'\n",
      "             '\\n'\n",
      "             'Thought: 我记得用户之前提到自己是处女座。\\n'\n",
      "             'Final Answer: 你是处女座。',\n",
      "  'role': 'assistant'}]\n"
     ]
    }
   ],
   "source": [
    "pprint(agent.messages)"
   ]
  },
  {
   "cell_type": "code",
   "execution_count": null,
   "metadata": {},
   "outputs": [],
   "source": []
  }
 ],
 "metadata": {
  "kernelspec": {
   "display_name": "agent",
   "language": "python",
   "name": "python3"
  },
  "language_info": {
   "codemirror_mode": {
    "name": "ipython",
    "version": 3
   },
   "file_extension": ".py",
   "mimetype": "text/x-python",
   "name": "python",
   "nbconvert_exporter": "python",
   "pygments_lexer": "ipython3",
   "version": "3.10.16"
  }
 },
 "nbformat": 4,
 "nbformat_minor": 2
}
