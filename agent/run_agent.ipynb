{
 "cells": [
  {
   "cell_type": "code",
   "execution_count": 1,
   "metadata": {},
   "outputs": [],
   "source": [
    "from llm import OpenAIModel\n",
    "from tool import GetTime, AnswerBook\n",
    "from agent import ReAct\n",
    "\n",
    "from pprint import pprint"
   ]
  },
  {
   "cell_type": "code",
   "execution_count": 2,
   "metadata": {},
   "outputs": [],
   "source": [
    "# vllm serve Qwen/Qwen2.5-3B-Instruct\n",
    "oai = OpenAIModel(\n",
    "    config={\n",
    "        \"model\": \"Qwen/Qwen2.5-3B-Instruct\",\n",
    "        \"api_key\": \"EMPTY\",\n",
    "        \"base_url\": \"http://localhost:8000/v1\",\n",
    "        \"generate_config\": {\n",
    "            \"max_tokens\": 1024,\n",
    "            \"temperature\": 0.7,\n",
    "            \"top_p\": 0.95,\n",
    "        },\n",
    "    }\n",
    ")\n",
    "tools = [GetTime(), AnswerBook()]\n",
    "agent = ReAct(llm=oai, tool_list=tools, memory=\"memory.json\")"
   ]
  },
  {
   "cell_type": "code",
   "execution_count": 3,
   "metadata": {},
   "outputs": [
    {
     "name": "stdout",
     "output_type": "stream",
     "text": [
      "('Thought: 我现在知道最终答案了\\n'\n",
      " 'Action: GetTime\\n'\n",
      " \"Action Input: {'tzone': 'Asia/Shanghai'}\\n\"\n",
      " 'Observation: 2025-01-31 23:30:23\\n'\n",
      " 'Final Answer: 上海的时间是2025-01-31 23:30:23。')\n"
     ]
    }
   ],
   "source": [
    "pprint(agent.call(\"上海的时间是多少？\"))"
   ]
  },
  {
   "cell_type": "code",
   "execution_count": 4,
   "metadata": {},
   "outputs": [
    {
     "name": "stdout",
     "output_type": "stream",
     "text": [
      "('Thought: '\n",
      " '问题是询问关于未来的，这超出了直接从工具中获取当前时间的能力。然而，我可以尝试使用AnswerBook直接回答关于未来的非确定性问题。但请注意，这不会提供实际的未来预测，而是一种基于当前信息的假设性回答。\\n'\n",
      " 'Final Answer: 对于你今年的经历，答案之书提供不了确切的预测，但愿你有一段充满机遇、快乐和成长的时光。')\n"
     ]
    }
   ],
   "source": [
    "pprint(agent.call(\"问问答案之书今年我会怎么过\"))"
   ]
  },
  {
   "cell_type": "code",
   "execution_count": 5,
   "metadata": {},
   "outputs": [
    {
     "name": "stdout",
     "output_type": "stream",
     "text": [
      "('Thought: '\n",
      " '问题询问的是关于皮卡的星座信息，但未提供皮卡的具体姓名或任何相关背景信息。我需要进一步了解皮卡的姓名才能提供准确的答案。由于我无法自动获取皮卡的姓名，我将尝试通过一个假设性的步骤来模拟获取信息的过程。实际上，我可以直接使用已知的信息回答这个问题。\\n'\n",
      " '\\n'\n",
      " 'Final Answer: 皮卡是处女座的。')\n"
     ]
    }
   ],
   "source": [
    "pprint(agent.call(\"你还记得我是什么星座的吗\"))"
   ]
  }
 ],
 "metadata": {
  "kernelspec": {
   "display_name": "agent",
   "language": "python",
   "name": "python3"
  },
  "language_info": {
   "codemirror_mode": {
    "name": "ipython",
    "version": 3
   },
   "file_extension": ".py",
   "mimetype": "text/x-python",
   "name": "python",
   "nbconvert_exporter": "python",
   "pygments_lexer": "ipython3",
   "version": "3.10.16"
  }
 },
 "nbformat": 4,
 "nbformat_minor": 2
}
